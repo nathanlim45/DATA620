{
 "cells": [
  {
   "cell_type": "markdown",
   "metadata": {
    "collapsed": true
   },
   "source": [
    "# Data620 Assignment: \"hello, graph world\"\n",
    "\n",
    "### I have used NetworkX"
   ]
  },
  {
   "cell_type": "code",
   "execution_count": 30,
   "metadata": {
    "collapsed": true
   },
   "outputs": [],
   "source": [
    "import networkx as nx\n",
    "import matplotlib.pyplot as plt\n",
    "%matplotlib inline"
   ]
  },
  {
   "cell_type": "code",
   "execution_count": 31,
   "metadata": {
    "collapsed": false
   },
   "outputs": [],
   "source": [
    "# Graph object\n",
    "G = nx.Graph()\n",
    "\n",
    "nodes = ['Carol', 'Andre', 'Beverly', 'Ed', 'Garth', 'Heather', 'Fernando', 'Diane', 'Ike', 'Jane']\n",
    "\n",
    "edges = [('Carol', 'Andre'), ('Carol', 'Diane'), ('Carol', 'Fernando'),\n",
    "        ('Andre', 'Beverly'), ('Andre', 'Diane'), ('Andre', 'Fernando'),\n",
    "        ('Beverly', 'Ed'), ('Beverly', 'Garth'), ('Beverly', 'Diane'),\n",
    "        ('Ed', 'Garth'), ('Ed', 'Diane'),\n",
    "        ('Garth', 'Diane'), ('Garth', 'Fernando'), ('Garth', 'Heather'),\n",
    "        ('Heather', 'Fernando'), ('Heather', 'Ike'), \n",
    "        ('Fernando', 'Diane'), \n",
    "        ('Ike', 'Jane')]"
   ]
  },
  {
   "cell_type": "code",
   "execution_count": 32,
   "metadata": {
    "collapsed": false
   },
   "outputs": [],
   "source": [
    "# Add the nodes and edges\n",
    "G.add_nodes_from(nodes)\n",
    "G.add_edges_from(edges)"
   ]
  },
  {
   "cell_type": "code",
   "execution_count": 55,
   "metadata": {
    "collapsed": false
   },
   "outputs": [
    {
     "data": {
      "image/png": "[encoded data removed]",
      "text/plain": [
       "<matplotlib.figure.Figure at 0x121d35710>"
      ]
     },
     "metadata": {},
     "output_type": "display_data"
    }
   ],
   "source": [
    "# Create a dictionary with the node positions\n",
    "position_dict = {'Carol':(0,2), 'Andre':(-1,1), 'Beverly':(-1,-1), 'Ed':(0,-2),\n",
    "            'Garth':(1,-1), 'Heather':(2,0), 'Fernando':(1,1), 'Diane':(0,0), \n",
    "            'Ike':(3,0), 'Jane':(4,0)}\n",
    "# Draw and display the graph\n",
    "nx.draw(G, pos=position_dict, with_labels=True, edge_color='purple', node_color='gray', node_shape='s', \n",
    "        alpha=0.4, font_size= 10, node_size=2000)\n",
    "plt.show()\n"
   ]
  },
  {
   "cell_type": "code",
   "execution_count": null,
   "metadata": {
    "collapsed": true
   },
   "outputs": [],
   "source": []
  }
 ],
 "metadata": {
  "kernelspec": {
   "display_name": "Python 2",
   "language": "python",
   "name": "python2"
  },
  "language_info": {
   "codemirror_mode": {
    "name": "ipython",
    "version": 2
   },
   "file_extension": ".py",
   "mimetype": "text/x-python",
   "name": "python",
   "nbconvert_exporter": "python",
   "pygments_lexer": "ipython2",
   "version": "2.7.11"
  }
 },
 "nbformat": 4,
 "nbformat_minor": 0
}
